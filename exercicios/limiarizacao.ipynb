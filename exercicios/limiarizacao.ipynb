{
 "cells": [
  {
   "cell_type": "markdown",
   "id": "a12ce2e0",
   "metadata": {},
   "source": [
    "# Limiarização"
   ]
  }
 ],
 "metadata": {
  "language_info": {
   "name": "python"
  }
 },
 "nbformat": 4,
 "nbformat_minor": 5
}
