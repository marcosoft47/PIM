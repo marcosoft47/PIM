{
 "cells": [
  {
   "cell_type": "markdown",
   "id": "71eafffe",
   "metadata": {},
   "source": [
    "# Exercícios de Introdução\n",
    "Aluno: Marco Antonio Reche Rigon\n",
    "\n"
   ]
  }
 ],
 "metadata": {
  "language_info": {
   "name": "python"
  }
 },
 "nbformat": 4,
 "nbformat_minor": 5
}
