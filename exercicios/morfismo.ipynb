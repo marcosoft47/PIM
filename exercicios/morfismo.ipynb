{
 "cells": [
  {
   "cell_type": "markdown",
   "id": "dbb34058",
   "metadata": {},
   "source": [
    "# Morfismo"
   ]
  },
  {
   "cell_type": "markdown",
   "id": "81c207ea",
   "metadata": {},
   "source": [
    "Morfismo é uma técnica para produção de imagens evidênciando uma transição entre duas imagems. É a interpolação linear entre as cores de cada pixel da imagem $I_1$ com as cores da imagem final $I_2$.\n",
    "\n",
    "O algoritmo de interpolação se baseia nos pesos das imagens. Uma imagem vai ter um peso sobre a imagem resultante, e a outra imagem vai ter um peso inversamente proporcional com a primeira. Segue a fórmula:\n",
    "$$\n",
    "I(n)=n*I_1+(1-n)*I_2\n",
    "$$"
   ]
  },
  {
   "cell_type": "code",
   "execution_count": null,
   "id": "323ddb57",
   "metadata": {},
   "outputs": [],
   "source": [
    "import numpy as np\n",
    "import cv2 as cv\n",
    "import time\n",
    "\n",
    "def morfismo(imgInicial: np.typing.NDArray, imgFinal: np.typing.NDArray, peso: float) -> np.typing.NDArray:\n",
    "    if not 0 <= peso <= 1:\n",
    "        print('Peso deve estar entre 0 e 1!')\n",
    "        return np.array([])\n",
    "    return  ((1-peso) * imgInicial + peso * imgFinal).astype(np.uint8)"
   ]
  },
  {
   "cell_type": "code",
   "execution_count": null,
   "id": "209171c0",
   "metadata": {},
   "outputs": [
    {
     "name": "stderr",
     "output_type": "stream",
     "text": [
      "qt.qpa.plugin: Could not find the Qt platform plugin \"wayland\" in \"/home/mark/.conda/envs/visao/lib/python3.13/site-packages/cv2/qt/plugins\"\n",
      "QFont::fromString: Invalid description 'Minecraft,10,-1,5,400,0,0,0,0,0,0,0,0,0,0,1'\n",
      "QFont::fromString: Invalid description 'Monocraft,10,-1,5,400,0,0,0,0,0,0,0,0,0,0,1'\n",
      "QFont::fromString: Invalid description 'Minecraft,10,-1,5,400,0,0,0,0,0,0,0,0,0,0,1'\n",
      "QFont::fromString: Invalid description 'Minecraft,9,-1,5,400,0,0,0,0,0,0,0,0,0,0,1'\n"
     ]
    },
    {
     "name": "stdout",
     "output_type": "stream",
     "text": [
      "Loop interrompido pelo usuário.\n"
     ]
    }
   ],
   "source": [
    "import os\n",
    "imagesPath = 'images/'\n",
    "\n",
    "def buscaImagens(filename: str) -> np.ndarray:\n",
    "    fullPath = os.path.join(imagesPath, filename)\n",
    "    \n",
    "    if os.path.exists(fullPath):\n",
    "        img = cv.imread(fullPath)\n",
    "        if img is not None:\n",
    "            return img\n",
    "        else:\n",
    "            print(f\"Erro: Não foi possível carregar a imagem '{filename}'. O arquivo pode estar corrompido.\")\n",
    "    else:\n",
    "        print(f\"Erro: O arquivo '{filename}' não foi encontrado em '{imagesPath}'.\")\n",
    "    return np.array([])\n",
    "\n",
    "img1 = buscaImagens('bowie1.jpg')\n",
    "img2 = buscaImagens('bowie2.jpg')\n",
    "\n",
    "windowName= 'Morfismo'\n",
    "cv.namedWindow(windowName)\n",
    "i = 0\n",
    "indo = True\n",
    "while True:\n",
    "    i = i + 1 if indo else i - 1\n",
    "    if i >= 60:\n",
    "        indo = False\n",
    "    if i<=0:\n",
    "        indo = True\n",
    "    peso = i / 60\n",
    "    \n",
    "    frameAtual = morfismo(img1, img2, peso)\n",
    "    \n",
    "    cv.imshow(windowName, frameAtual)\n",
    "\n",
    "    key = cv.waitKey(17) \n",
    "    if key & 0xFF == ord('q'):\n",
    "        print(\"Loop interrompido pelo usuário.\")\n",
    "        break\n",
    "cv.destroyAllWindows()"
   ]
  }
 ],
 "metadata": {
  "kernelspec": {
   "display_name": "visao",
   "language": "python",
   "name": "python3"
  },
  "language_info": {
   "codemirror_mode": {
    "name": "ipython",
    "version": 3
   },
   "file_extension": ".py",
   "mimetype": "text/x-python",
   "name": "python",
   "nbconvert_exporter": "python",
   "pygments_lexer": "ipython3",
   "version": "3.13.7"
  }
 },
 "nbformat": 4,
 "nbformat_minor": 5
}
