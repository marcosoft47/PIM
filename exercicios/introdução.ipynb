{
 "cells": [
  {
   "cell_type": "markdown",
   "id": "71eafffe",
   "metadata": {},
   "source": [
    "# Exercícios de Introdução\n",
    "Aluno: Marco Antonio Reche Rigon\n",
    "\n",
    "Vamos começar importando as bibliotecas que serão usadas ao decorrer dos exercícios"
   ]
  },
  {
   "cell_type": "code",
   "execution_count": null,
   "id": "c5f01767",
   "metadata": {},
   "outputs": [],
   "source": [
    "import cv2 as cv\n",
    "import numpy as np"
   ]
  },
  {
   "cell_type": "markdown",
   "id": "41cbe362",
   "metadata": {},
   "source": [
    "Como estamos mexendo com arquivos, é interessante fazer uma verificação para garantir que os arquivos foram lidos com sucesso."
   ]
  },
  {
   "cell_type": "code",
   "execution_count": null,
   "id": "f25c0465",
   "metadata": {},
   "outputs": [],
   "source": [
    "import os\n",
    "imagesPath = 'images/'\n",
    "\n",
    "def buscaImagens(imgs: dict[str,str]) -> dict[str, np.ndarray]:\n",
    "    images: dict[str, np.ndarray] = {}\n",
    "\n",
    "    for name, filename in imgs.items():\n",
    "        fullPath = os.path.join(imagesPath, filename)\n",
    "        \n",
    "        if os.path.exists(fullPath):\n",
    "            img = cv.imread(fullPath)\n",
    "            if img is not None:\n",
    "                images[name] = img\n",
    "            else:\n",
    "                print(f\"Erro: Não foi possível carregar a imagem '{filename}'. O arquivo pode estar corrompido.\")\n",
    "        else:\n",
    "            print(f\"Erro: O arquivo '{filename}' não foi encontrado em '{imagesPath}'.\")\n",
    "    return images"
   ]
  },
  {
   "cell_type": "markdown",
   "id": "cd5efb00",
   "metadata": {},
   "source": [
    "\n",
    "## Ex. 01\n",
    "Nesse exercício, iremos usar três imagens com variação de cinza. Os tons de cinza são representados por pixels de 8 bits. Ou seja, entre 0 e 255."
   ]
  },
  {
   "cell_type": "code",
   "execution_count": 3,
   "id": "008818bb",
   "metadata": {},
   "outputs": [],
   "source": [
    "imgs = buscaImagens({\n",
    "    'clara': 'figuraClara.jpg',\n",
    "    'cinza': 'figuraCinza.jpg',\n",
    "    'escura': 'figuraEscura.jpg'\n",
    "})"
   ]
  },
  {
   "cell_type": "markdown",
   "id": "f46c49c1",
   "metadata": {},
   "source": [
    "Vamos fazer um algoritmo para exibir as imagens."
   ]
  },
  {
   "cell_type": "code",
   "execution_count": 4,
   "id": "dd085b47",
   "metadata": {},
   "outputs": [
    {
     "name": "stderr",
     "output_type": "stream",
     "text": [
      "qt.qpa.plugin: Could not find the Qt platform plugin \"wayland\" in \"\"\n"
     ]
    }
   ],
   "source": [
    "cv.imshow('Exercicio 01', imgs['cinza'])\n",
    "cv.waitKey(0)\n",
    "\n",
    "cv.destroyAllWindows()"
   ]
  },
  {
   "cell_type": "markdown",
   "id": "31f215e7",
   "metadata": {},
   "source": [
    "Uau, quem diria que a imagem cinza é bem cinza... O quão cinza essa imagem é? Vamos fazer uma média de cores para ver isso. Para operações matriciais é muito útil usar o Numpy, que já vem com muitas funções embutidas para realizar essas operações. Tão útil que o OpenCV usa matrizes Numpy para representar suas imagens."
   ]
  },
  {
   "cell_type": "code",
   "execution_count": 5,
   "id": "51ad7a22",
   "metadata": {},
   "outputs": [
    {
     "name": "stdout",
     "output_type": "stream",
     "text": [
      "130.1064531069319\n",
      "[117 117 117]\n"
     ]
    }
   ],
   "source": [
    "print(np.mean(imgs['cinza']))\n",
    "print(imgs['cinza'][0][0])"
   ]
  },
  {
   "cell_type": "markdown",
   "id": "e2fe255b",
   "metadata": {},
   "source": [
    "## Ex. 02\n"
   ]
  },
  {
   "cell_type": "markdown",
   "id": "f3836507",
   "metadata": {},
   "source": [
    "Numpy é muito legal, mas vamos implementar a média na mão? OpenCV recomenda usarmos funções Numpy para isso. E tanto o OpenCV, quanto Numpy recomendam não fazer operações acessando elementos individualmente. Para fins didáticos, vamos quebrar as regras."
   ]
  },
  {
   "cell_type": "code",
   "execution_count": null,
   "id": "069993cb",
   "metadata": {},
   "outputs": [
    {
     "name": "stdout",
     "output_type": "stream",
     "text": [
      "130.1064531069319\n"
     ]
    }
   ],
   "source": [
    "def media(img: np.ndarray) -> float:\n",
    "    count = 0\n",
    "    acc = 0.0 # float64 para evitar overflow\n",
    "    for i in range(len(img)):\n",
    "        for j in range(len(img[i])):\n",
    "            for k in range(len(img[i][j])):\n",
    "                acc += img[i][j][k]\n",
    "                count += 1\n",
    "    return acc / count\n",
    "\n",
    "print(media(imgs['cinza']))"
   ]
  },
  {
   "cell_type": "markdown",
   "id": "a2e36517",
   "metadata": {},
   "source": [
    "Como eu disse, essa função é bem lenta por estarmos acessando diversos valores individuais com Numpy (não faça leitura de matrizes Numpy percorrendo ela inteira). Vamos continuar usando `np.mean()` porque não quero perder tempo esperando a função terminar de rodar."
   ]
  },
  {
   "cell_type": "markdown",
   "id": "4944700b",
   "metadata": {},
   "source": [
    "### Escuridão"
   ]
  },
  {
   "cell_type": "markdown",
   "id": "a36dc2a5",
   "metadata": {},
   "source": [
    "Vamos achar um jeito de identificar o quão escuro é uma imagem. Antes de pensar numa solução, vamos analisar a média dos valores das imagens que temos."
   ]
  },
  {
   "cell_type": "code",
   "execution_count": 8,
   "id": "43ffeeae",
   "metadata": {},
   "outputs": [
    {
     "name": "stdout",
     "output_type": "stream",
     "text": [
      "252.06378538951932\n",
      "130.1064531069319\n",
      "15.06361587097217\n"
     ]
    }
   ],
   "source": [
    "print(np.mean(imgs['clara']))\n",
    "print(np.mean(imgs['cinza']))\n",
    "print(np.mean(imgs['escura']))"
   ]
  },
  {
   "cell_type": "markdown",
   "id": "476e540b",
   "metadata": {},
   "source": [
    "Podemos ver que quanto mais escuro a imagem, menor será a média dos valores. Afinal, `(255,255,255)` é branco e `(0,0,0)` é preto. Mas temos um problema, isso é só a média dos valores. Não implica que a imagem é muito clara, cinza ou escura. E se nós fizermos essa comparação para média para cada canal (canais são RGB) e ver se elas são muito próximas? Tendo isso em mente, vamos implementar essa função."
   ]
  },
  {
   "cell_type": "code",
   "execution_count": null,
   "id": "1139e634",
   "metadata": {},
   "outputs": [
    {
     "name": "stdout",
     "output_type": "stream",
     "text": [
      "-1\n",
      "0\n",
      "1\n",
      "2\n"
     ]
    }
   ],
   "source": [
    "\n",
    "def nivelEscuro(img: np.ndarray, delta = 10) -> int:\n",
    "    '''\n",
    "        Função que verifica o nível de escuridão de uma image\n",
    "        Argumentos:\n",
    "            img: Imagem que será verificada\n",
    "            delta: Variação permitida\n",
    "        Retorno\n",
    "            Inteiro com o nível de escuridão da imagem:\n",
    "                -1 Normal\n",
    "                 0 Muito escuro\n",
    "                 1 Muito cinza\n",
    "                 2 Muito claro\n",
    "    '''\n",
    "    r = np.mean(img[:, :, 2]) # OpenCV carrega imagens como BGR ao invés de RGB\n",
    "    g = np.mean(img[:, :, 1]) # Os dois pontos quer dizer \"Pegue tudo desse eixo\"\n",
    "    b = np.mean(img[:, :, 0])\n",
    "    rgb = np.mean([r,g,b])\n",
    "    var = np.var([r,g,b])\n",
    "\n",
    "    if -delta < var < delta:\n",
    "        if rgb < 86:\n",
    "            return 0\n",
    "        if rgb > 172:\n",
    "            return 2\n",
    "        return 1\n",
    "    return -1\n",
    "\n",
    "print(nivelEscuro(cv.imread('images/arco_iris.jpg'))) # type: ignore\n",
    "print(nivelEscuro(imgs['escura']))\n",
    "print(nivelEscuro(imgs['cinza']))\n",
    "print(nivelEscuro(imgs['clara']))"
   ]
  }
 ],
 "metadata": {
  "kernelspec": {
   "display_name": "visao",
   "language": "python",
   "name": "python3"
  },
  "language_info": {
   "codemirror_mode": {
    "name": "ipython",
    "version": 3
   },
   "file_extension": ".py",
   "mimetype": "text/x-python",
   "name": "python",
   "nbconvert_exporter": "python",
   "pygments_lexer": "ipython3",
   "version": "3.13.5"
  }
 },
 "nbformat": 4,
 "nbformat_minor": 5
}
