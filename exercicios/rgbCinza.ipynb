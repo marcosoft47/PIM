{
 "cells": [
  {
   "cell_type": "markdown",
   "id": "5682a10a",
   "metadata": {},
   "source": [
    "# RGB para Cinza\n",
    "Aluno: Marco Antonio Reche Rigon\n",
    "\n",
    "Vamos começar importando as bibliotecas que serão usadas ao decorrer dos exercícios"
   ]
  },
  {
   "cell_type": "code",
   "execution_count": 1,
   "id": "95098551",
   "metadata": {},
   "outputs": [],
   "source": [
    "import cv2 as cv\n",
    "import numpy as np\n",
    "import matplotlib.pyplot as plt"
   ]
  },
  {
   "cell_type": "markdown",
   "id": "caddf422",
   "metadata": {},
   "source": [
    "Como estamos mexendo com arquivos, é interessante fazer uma verificação para garantir que os arquivos foram lidos com sucesso."
   ]
  },
  {
   "cell_type": "code",
   "execution_count": 2,
   "id": "35a70747",
   "metadata": {},
   "outputs": [],
   "source": [
    "import os\n",
    "\n",
    "def carregarImagem(imgPath: str) -> np.typing.NDArray:        \n",
    "    if os.path.exists(imgPath):\n",
    "        img = cv.imread(imgPath)\n",
    "        if img is not None:\n",
    "            return img\n",
    "        else:\n",
    "            print(f\"Erro: Não foi possível carregar a imagem '{imgPath}'. O arquivo pode estar corrompido.\")\n",
    "    else:\n",
    "        print(f\"Erro: O arquivo '{imgPath}' não foi encontrado em.\")\n",
    "    raise FileExistsError\n",
    "\n",
    "def buscaImagens(imgs: dict[str,str]) -> dict[str, np.typing.NDArray]:\n",
    "    images: dict[str, np.typing.NDArray] = {}\n",
    "\n",
    "    for name, filename in imgs.items():\n",
    "        images[name] = carregarImagem(filename)\n",
    "    return images"
   ]
  },
  {
   "cell_type": "code",
   "execution_count": 3,
   "id": "7b365949",
   "metadata": {},
   "outputs": [],
   "source": [
    "img = carregarImagem('images/arco_iris.jpg')"
   ]
  },
  {
   "cell_type": "markdown",
   "id": "5c0e600e",
   "metadata": {},
   "source": [
    "## Cinza"
   ]
  },
  {
   "cell_type": "markdown",
   "id": "e3caa93a",
   "metadata": {},
   "source": [
    "Cinza um número, cor três números. Como três para um? Existem diversos métodos para fazer essa conversão. Vamos ver alguns\n",
    "\n",
    "### "
   ]
  },
  {
   "cell_type": "code",
   "execution_count": 7,
   "id": "b1ed8283",
   "metadata": {},
   "outputs": [],
   "source": [
    "def desaturacao(img: np.typing.NDArray) -> np.typing.NDArray:\n",
    "    imgfloat = img.astype(np.float32)\n",
    "    min = np.min(imgfloat, axis=2)\n",
    "    max = np.max(imgfloat, axis=2)\n",
    "    gray = (max + min) / 2\n",
    "    return gray.astype(np.uint8)"
   ]
  },
  {
   "cell_type": "code",
   "execution_count": 8,
   "id": "2fd46d74",
   "metadata": {},
   "outputs": [],
   "source": [
    "cv.imshow('Desaturacao', desaturacao(img))\n",
    "cv.waitKey()\n",
    "cv.destroyAllWindows()"
   ]
  },
  {
   "cell_type": "code",
   "execution_count": 13,
   "id": "c6a36644",
   "metadata": {},
   "outputs": [],
   "source": [
    "def luminosidade(img: np.typing.NDArray) -> np.typing.NDArray:\n",
    "    # 0.3 * R + 0.59 * G + 0.11 * B\n",
    "    imgfloat = img.astype(np.float32)\n",
    "    b = imgfloat[:,:,[0]]\n",
    "    g = imgfloat[:,:,[1]]\n",
    "    r = imgfloat[:,:,[2]]\n",
    "\n",
    "    return (r*0.3+g*0.59+b*0.11).astype(np.uint8)"
   ]
  },
  {
   "cell_type": "code",
   "execution_count": 14,
   "id": "e7f0a250",
   "metadata": {},
   "outputs": [],
   "source": [
    "cv.imshow('Luminosidade', luminosidade(img))\n",
    "cv.waitKey()\n",
    "cv.destroyAllWindows()"
   ]
  },
  {
   "cell_type": "code",
   "execution_count": null,
   "id": "38fa2e9e",
   "metadata": {},
   "outputs": [],
   "source": [
    "def bpp(img: np.typing.NDArray, bits: int) -> np.typing.NDArray:\n",
    "    min = np.min(img)\n",
    "    max = np.max(img)\n",
    "    sub = max-min\n",
    "    normal = (img-min)/(sub)\n",
    "    shades = 2 ** bits    \n",
    "    passo = 255 / (shades - 1)\n",
    "    imgFinal = (np.round(normal *c (shades - 1)) * passo).astype(np.uint8)\n",
    "    \n",
    "    return imgFinal"
   ]
  },
  {
   "cell_type": "code",
   "execution_count": 27,
   "id": "5877773e",
   "metadata": {},
   "outputs": [],
   "source": [
    "arr = np.array([\n",
    "    [6.8,\t6.8,\t6.8,\t6.8,\t6.8,\t6.8],\n",
    "    [1.8,\t1.8,\t1.8,    1.8,    1.8,\t1.8],\n",
    "    [6.8,\t6.8,\t6.8,\t6.8,\t6.8,\t6.8],\n",
    "    [1.8,\t1.8,\t1.8,\t1.8,\t1.8,\t1.8],\n",
    "    [6.8,\t6.8,\t6.8,\t6.8,\t6.8,\t6.8],\n",
    "    [1.8,\t1.8,\t1.8,\t1.8,\t1.8,\t1.8]]\n",
    ")\n",
    "cv.imshow('BPP', bpp(arr,1))\n",
    "cv.waitKey()\n",
    "cv.destroyAllWindows()"
   ]
  },
  {
   "cell_type": "code",
   "execution_count": null,
   "id": "43718251",
   "metadata": {},
   "outputs": [],
   "source": [
    "\n",
    "arr =  np.array(\n",
    "    [[6.8,\t6.87,\t6.89,\t6.89,\t6.87,\t6.8],\n",
    "     [5.8,\t5.87,\t5.89,\t5.89,\t5.87,\t5.8],\n",
    "     [4.8,\t4.87,\t4.89,\t4.89,\t4.87,\t4.8],\n",
    "     [3.8,\t3.87,\t3.89,\t3.89,\t3.87,\t3.8],\n",
    "     [2.8,\t2.87,\t2.89,\t2.89,\t2.87,\t2.8],\n",
    "     [1.8,\t1.87,\t1.89,\t1.89,\t1.87,\t1.8]])\n",
    "cv.imshow('BPP 1', bpp(arr,1))\n",
    "cv.imshow('BPP 2', bpp(arr,2))\n",
    "cv.imshow('BPP 4', bpp(arr,4))\n",
    "cv.imshow('BPP 5', bpp(arr,6))\n",
    "cv.imshow('BPP 8', bpp(arr,8))\n",
    "cv.waitKey()\n",
    "cv.destroyAllWindows()"
   ]
  }
 ],
 "metadata": {
  "kernelspec": {
   "display_name": "visao",
   "language": "python",
   "name": "python3"
  },
  "language_info": {
   "codemirror_mode": {
    "name": "ipython",
    "version": 3
   },
   "file_extension": ".py",
   "mimetype": "text/x-python",
   "name": "python",
   "nbconvert_exporter": "python",
   "pygments_lexer": "ipython3",
   "version": "3.12.11"
  }
 },
 "nbformat": 4,
 "nbformat_minor": 5
}
